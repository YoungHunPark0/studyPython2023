{
 "cells": [
  {
   "attachments": {},
   "cell_type": "markdown",
   "metadata": {},
   "source": [
    "## 1번 1. 반지름 값을 입력받아 원의 넓이를 구하여 출력하는 프로그램을 구현하세요. π는 3.141592 입니다. 모듈을 사용하여도 됩니다~!!"
   ]
  },
  {
   "cell_type": "code",
   "execution_count": 18,
   "metadata": {},
   "outputs": [
    {
     "name": "stdout",
     "output_type": "stream",
     "text": [
      "54841.17172195117\n"
     ]
    }
   ],
   "source": [
    "# r = float(input())\n",
    "# pi = 3.141592\n",
    "# print(r*r*pi)\n",
    "\n",
    "import math\n",
    "\n",
    "radius = int(input('반지름을 입력하세요'))\n",
    "\n",
    "print(f'원의 넓이는 {math.pi * radius * radius:.4f} 입니다.')"
   ]
  },
  {
   "attachments": {},
   "cell_type": "markdown",
   "metadata": {},
   "source": [
    "## 2번 태양계는 수성, 금성, 지구, 화성, 목성, 토성, 천왕성, 해왕성으로 구성됩니다. 영어 이름은 Mercury, Venus, Earth, Mars, Jupiter,  Saturn, Uranus, Neptune 입니다.  행성의 영어 이름을 입력하면 한글 행성 이름이 출력 되는 프로그램을 구현하세요."
   ]
  },
  {
   "cell_type": "code",
   "execution_count": 2,
   "metadata": {},
   "outputs": [
    {
     "name": "stdout",
     "output_type": "stream",
     "text": [
      "지구\n"
     ]
    }
   ],
   "source": [
    "# arr = [['Mercury, 수성'],['Venus, 금성']['Earth, 지구']['Mars, 화성']['Jupiter, 목성']\n",
    "# ['Saturn, 토성']['Uranus, 천왕성']['Neptune', '해왕성']]\n",
    "# name = input()\n",
    "# for i in range(0,8,1):\n",
    "#     if name == arr[i][0] :\n",
    "#         print(arr[i][1])\n",
    "#         break\n",
    "\n",
    "solar = {'Mercury': '수성', #2. 소문자쓸거면\n",
    "        'Venus': '금성',\n",
    "        'Earth': '지구',\n",
    "        'Mars': '화성',\n",
    "        'Jupiter': '목성',\n",
    "        'Saturn': '토성',\n",
    "        'Uranus': '천왕성',\n",
    "        'Neptune' : '해왕성'}\n",
    "\n",
    "planet = input('행성이름(영어) 입력하세요 > ') #2. .lower()쓰고\n",
    "\n",
    "try:\n",
    "    print(solar[planet]) #2. print(f'{planet}은 {solar[planet]입니다.}) \n",
    "\n",
    "except:\n",
    "    print('찾는 행성이 없습니다')"
   ]
  },
  {
   "attachments": {},
   "cell_type": "markdown",
   "metadata": {},
   "source": [
    "## 3번 입력한 영어 문자열의 단어의 수를 출력하고 입력된 단어를 짝수로 대문자로 변경하여 출력하는 프로그램을 구현하세요. 예) I'm going to leave the door open = 7 / I'm GOING to LEAVE the DOOR open"
   ]
  },
  {
   "cell_type": "code",
   "execution_count": 4,
   "metadata": {},
   "outputs": [
    {
     "name": "stdout",
     "output_type": "stream",
     "text": [
      "7 / I'm GOING to LEAVE the DOOR open "
     ]
    }
   ],
   "source": [
    "# cnt = 0\n",
    "# for i in input().split() :\n",
    "#     cnt+=1\n",
    "#     if cnt%2 == 0 :\n",
    "#         print(i.upper())\n",
    "# print(cnt)\n",
    "\n",
    "\n",
    "sentance = input('영어 문장을 입력하세요')\n",
    "\n",
    "words = sentance.split()\n",
    "print(len(words), end=' / ')\n",
    "\n",
    "for i, word in enumerate(words):\n",
    "    if (i+1) % 2 == 0:\n",
    "        print(word.upper(), end=' ')\n",
    "    else:\n",
    "        print(word, end=' ')"
   ]
  },
  {
   "attachments": {},
   "cell_type": "markdown",
   "metadata": {},
   "source": [
    "## 4번 입력한 수를 거꾸로 출력하는 프로그램을 구현하세요. 예) 1 3 5 7 9 --> 9 7 5 3 1"
   ]
  },
  {
   "cell_type": "code",
   "execution_count": 9,
   "metadata": {},
   "outputs": [
    {
     "name": "stdout",
     "output_type": "stream",
     "text": [
      "1 3 5 7 9 --> 9 7 5 3 1 "
     ]
    }
   ],
   "source": [
    "# arr = list(map(int,input().split()))\n",
    "# print(list(reversed(arr)))\n",
    "\n",
    "numbers = list(map(int,input('수를 여러개 입력하세요').split()))\n",
    "\n",
    "for i in numbers:\n",
    "    print(i, end=' ')\n",
    "\n",
    "print('-->', end=' ') # --> 출력\n",
    "numbers.reverse()\n",
    "\n",
    "for i in numbers:\n",
    "    print(i, end=' ')"
   ]
  },
  {
   "attachments": {},
   "cell_type": "markdown",
   "metadata": {},
   "source": [
    "## 5번 구구단을 수행할 단번호를 입력하면 그 단의 9까지의 결과를 나열하는 프로그램을 입력하세요. 예) 3 --> 3 6 9 12 15 18 21 24 27"
   ]
  },
  {
   "cell_type": "code",
   "execution_count": 10,
   "metadata": {},
   "outputs": [
    {
     "name": "stdout",
     "output_type": "stream",
     "text": [
      "3 -->  3 6 9 12 15 18 21 24 27 "
     ]
    }
   ],
   "source": [
    "# num = int(input())\n",
    "# for i in range(1, 10):\n",
    "#     print(num * i, end=' ')\n",
    "\n",
    "number = int(input('구구단 단 입력'))\n",
    "\n",
    "print(f'{number} --> ', end=' ')\n",
    "\n",
    "for i in range(1, 10):\n",
    "    print(f'{number*i}', end=' ')"
   ]
  }
 ],
 "metadata": {
  "kernelspec": {
   "display_name": "venv",
   "language": "python",
   "name": "python3"
  },
  "language_info": {
   "codemirror_mode": {
    "name": "ipython",
    "version": 3
   },
   "file_extension": ".py",
   "mimetype": "text/x-python",
   "name": "python",
   "nbconvert_exporter": "python",
   "pygments_lexer": "ipython3",
   "version": "3.11.1"
  },
  "orig_nbformat": 4,
  "vscode": {
   "interpreter": {
    "hash": "1732cc55dde7803caebda0df0f1738cc035ced225322b7cf344f368c2c40d995"
   }
  }
 },
 "nbformat": 4,
 "nbformat_minor": 2
}
